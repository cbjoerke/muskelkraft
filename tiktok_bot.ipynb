{
 "cells": [
  {
   "attachments": {},
   "cell_type": "markdown",
   "metadata": {},
   "source": [
    "# Bygging av TikTok-bot med Appium og Android-telefon"
   ]
  },
  {
   "attachments": {},
   "cell_type": "markdown",
   "metadata": {},
   "source": [
    "Delvis dokumentasjon av metode.  \n",
    "*Henrik Bøe, 18.01.2023*"
   ]
  },
  {
   "attachments": {},
   "cell_type": "markdown",
   "metadata": {},
   "source": [
    "Her er python-kode for en forenklet versjon av TikTok-boten vi brukte i NRK-saken \"TikToks muskelkraft\".  \n",
    "  \n",
    "**Vi deler ikke all koden, fordi det da blir svært enkelt for TikTok å blokkere akkurat hva vi har gjort her. Dette er derfor heller en grov oppskrift som gir en pekepinn på hvordan boten fungerer, og noen av stegene er beskrevet med pseudo-kode.**"
   ]
  },
  {
   "attachments": {},
   "cell_type": "markdown",
   "metadata": {},
   "source": [
    "### Forutsetninger  \n",
    "  \n",
    "Løsningen vår er basert på å styre en Android-telefon i utviklermodus med automatiseringsløsningen Appium og driveren UiAutomator2.  \n",
    "    \n",
    "For at dette skal virke må følgende være på plass:  \n",
    "* Installasjon av Appium-server. (https://appium.io/)\n",
    "* Utviklermodus aktivert på Android-telefon og USB-debugging skrudd på"
   ]
  },
  {
   "attachments": {},
   "cell_type": "markdown",
   "metadata": {},
   "source": [
    "### Opprett class AppiumBot\n",
    "  \n",
    "Vi opprettet en class vi kalte AppiumBot, fordi vi da kunne lage flere bot-instanser med ulike interesser og egenskaper.\n",
    "\n",
    "Vi har ikke inkludert kode for funksjonene find_username, find_text, get_screenshot, db_update_interested og db_update_not_interested i dette eksempelet."
   ]
  },
  {
   "cell_type": "code",
   "execution_count": null,
   "metadata": {},
   "outputs": [],
   "source": [
    "class AppiumBot:\n",
    "    def __init__(self, number_of_tiktoks, db_index):\n",
    "        self.number_of_tiktoks = number_of_tiktoks\n",
    "        self.db_index = db_index\n",
    "\n",
    "    name = \"UnnamedBot\"\n",
    "    interest_user = []\n",
    "    interest_text = []\n",
    "    long_duration = [20.0, 30.0]\n",
    "\n",
    "    def run(self):\n",
    "        desired_caps = dict(\n",
    "            automationName = \"UiAutomator2\",\n",
    "            deviceName = \"Android\",\n",
    "            platformName = \"Android\",\n",
    "            appPackage = \"com.zhiliaoapp.musically\",\n",
    "            appActivity = \"com.ss.android.ugc.aweme.main.MainActivity\",\n",
    "            noReset = True\n",
    "        )\n",
    "        driver = webdriver.Remote('APPIUM_SERVER_URL', desired_caps)\n",
    "        time.sleep(3)\n",
    "\n",
    "        for i in range(0, self.number_of_tiktoks):\n",
    "            # Sjekker at TikTok-appen er åpen, og ikke har krasjet\n",
    "            if driver.current_activity == \"com.ss.android.ugc.aweme.main.MainActivity\":\n",
    "                try:\n",
    "                    \n",
    "                    start = time.time()\n",
    "                    interested = \"false\"\n",
    "                    date_and_time = datetime.datetime.utcnow()\n",
    "\n",
    "                    # Finner brukernavn\n",
    "                    user = find_username(driver, start)\n",
    "\n",
    "                    # Finner tekst\n",
    "                    text = find_text(driver, start)\n",
    "\n",
    "                    # Sjekker om brukernavn eller interesser finnes\n",
    "                    if any(elem in text.lower() for elem in self.interest_text):\n",
    "                        interested = \"true\"\n",
    "                    elif user in self.interest_user:\n",
    "                        interested = \"true\"\n",
    "\n",
    "                    # Hvis boten har funnet video den liker\n",
    "                    if interested == \"true\":\n",
    "                        # Sett viewtime til \n",
    "                        viewtime = random.uniform(self.long_duration[0], self.long_duration[1])\n",
    "\n",
    "                        # Ta skjermdump og crop\n",
    "                        image_name_output = get_screenshot()\n",
    "\n",
    "                        # Send til Azure API\n",
    "                        image_data = get_local_image_data(image_name_output)\n",
    "                        azure_tags = [tag.name for tag in image_data[0]]\n",
    "                        azure_text = image_data[2]\n",
    "\n",
    "                        paused = \"false\"\n",
    "                        liked = \"false\"\n",
    "                        # Pauser video i en fjerdedel av tilfellene\n",
    "                        if random.randint(1, 4) > 3:\n",
    "                            paused = \"true\"\n",
    "                            driver.tap([\"KOORDINATER\"])\n",
    "                            time.sleep(random.randint(1,4))\n",
    "                            driver.tap([\"KOORDINATER\"])\n",
    "                            time.sleep(1)\n",
    "\n",
    "                        # Liker video i en åttendedel av tilfellene\n",
    "                        if random.randint(1, 8) > 7:\n",
    "                            try:\n",
    "                                driver.find_element(AppiumBy.ACCESSIBILITY_ID, 'Likerklikk').click()\n",
    "                                liked = \"true\"\n",
    "                            except Exception as e:\n",
    "                                print(f\"Feil ved forsøk på å like post: {e}\")\n",
    "\n",
    "                        time.sleep(viewtime)\n",
    "                        actual_viewtime = time.time() - start\n",
    "\n",
    "                        # Oppdaterer database med informasjon fra video\n",
    "                        db_update_interested(user, text, date_and_time, actual_viewtime, interested, azure_tags,\n",
    "                                             azure_text, image_name_output, paused, liked, self.db_index)\n",
    "                        \n",
    "                    else:\n",
    "                        actual_viewtime = time.time() - start\n",
    "                        # Oppdaterer database med informasjon fra video\n",
    "                        db_update_not_interested(user, text, date_and_time, actual_viewtime, interested, self.db_index)\n",
    "\n",
    "                    # Sveiper til neste video\n",
    "                    driver.flick(\"KOORDINATER\")\n",
    "\n",
    "                except Exception as e:\n",
    "                    print(e)\n",
    "                    driver.quit()\n",
    "            else:\n",
    "                print(f\"Current activity: {driver.current_activity}\")\n",
    "                driver.quit()\n",
    "        driver.quit()"
   ]
  },
  {
   "attachments": {},
   "cell_type": "markdown",
   "metadata": {},
   "source": [
    "### Opprett bot-instanser\n",
    "  \n",
    "Deretter kunne vi lage bot-instanser med egenskapene vi ønsket. Først og fremst en liste med tekst boten skulle være interessert i, og en liste med aktuelle brukernavn.\n",
    "  \n",
    "Hvis tekst fra listen eller ett av brukernavnene dukket opp, ville den se lenger på videoen."
   ]
  },
  {
   "cell_type": "code",
   "execution_count": null,
   "metadata": {},
   "outputs": [],
   "source": [
    "bot = AppiumBot(random.randint(100, 200), \"muskelbot\")\n",
    "bot.name = \"MuskelBot\"\n",
    "bot.long_duration = [40.0, 50.0]\n",
    "\n",
    "bot.interest_text = {\"nøkkelord1\", \"nøkkelord2\", \"nøkkelord3\"}\n",
    "\n",
    "bot.interest_user = {\"Brukernavn1\", \"Brukernavn2\", \"Brukernavn3\"}\n",
    "\n",
    "bot.run()"
   ]
  }
 ],
 "metadata": {
  "kernelspec": {
   "display_name": "Python 3",
   "language": "python",
   "name": "python3"
  },
  "language_info": {
   "name": "python",
   "version": "3.11.0 (main, Nov 11 2022, 13:01:41) [Clang 14.0.0 (clang-1400.0.29.202)]"
  },
  "orig_nbformat": 4,
  "vscode": {
   "interpreter": {
    "hash": "27982927817adea328c1af48572b419a003656bf6221b4f3b10af4e8390fa584"
   }
  }
 },
 "nbformat": 4,
 "nbformat_minor": 2
}
