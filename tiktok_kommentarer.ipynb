{
 "cells": [
  {
   "attachments": {},
   "cell_type": "markdown",
   "id": "17a2d8d6",
   "metadata": {},
   "source": [
    "# Hvor mange barn kommenterer på norske TikTok-byggeres profiler?\n",
    "\n",
    "Dokumentasjon av metode til Skup-rapport 2022.  \n",
    "\n",
    "================="
   ]
  },
  {
   "attachments": {},
   "cell_type": "markdown",
   "id": "0c065959",
   "metadata": {},
   "source": [
    "På forhånd har vi definert en liste over 50 av de største kroppsbyggerne i Norge. \n",
    "\n",
    "I tillegg har vi laget en database som består av følgende kolonner: \n",
    "* poster (navn på TikTok-brukeren som har laget videoen)\n",
    "* poster_username (URL til TikTok-brukeren som har laget videoen)\n",
    "* post_text (tekst som hører til TikTok-videoen)\n",
    "* name (navn på TikTok-brukeren som har kommentert på videoen)\n",
    "* username (URL til TikTok-brukeren som har kommentert på videoen))\n",
    "* comment (kommentaren)"
   ]
  },
  {
   "attachments": {},
   "cell_type": "markdown",
   "id": "a95600aa",
   "metadata": {},
   "source": [
    "### Hente ut kommentarer fra TikTok.com\n",
    "\n",
    "* Gå inn på en TikTok-konto\n",
    "* Klikke bort cookie-melding\n",
    "* Skrolle helt ned på siden\n",
    "* Gå inn på den siste videoen\n",
    "\n",
    "*OBS! TikTok endrer ofte den midterste verdien i class-ene, som for eksempel «tiktok-x6y88p-DivItemContainerV2». Bruk inspektør-verktøyet i nettleseren for å finne oppdatert info.* "
   ]
  },
  {
   "cell_type": "code",
   "execution_count": 2,
   "id": "8f44e24c",
   "metadata": {},
   "outputs": [],
   "source": [
    "urls = {\n",
    "    \"USERNAME\" : \"https://www.tiktok.com/@USERNAME\"\n",
    "}\n",
    "\n",
    "for poster,poster_username in urls.items():\n",
    "\n",
    "    # Open Chromedriver and TikTok\n",
    "    driver = webdriver.Chrome(options=chrome_options, service=Service(ChromeDriverManager().install()))\n",
    "    driver.get(poster_username)\n",
    "    driver.maximize_window()\n",
    "    time.sleep(10)\n",
    "\n",
    "    # Remove cookie banner\n",
    "    driver.execute_script('''return document.querySelector('tiktok-cookie-banner').shadowRoot.querySelector('button[type=\"button\"]')''').click()\n",
    "    time.sleep(5)\n",
    "\n",
    "    # Scroll down\n",
    "    last_height = driver.execute_script(\"return document.body.scrollHeight\")\n",
    "    while True:\n",
    "        driver.execute_script(\"window.scrollTo(0,document.body.scrollHeight)\")\n",
    "        time.sleep(5)\n",
    "        new_height = driver.execute_script(\"return document.body.scrollHeight\")\n",
    "        time.sleep(5)\n",
    "        if new_height == last_height:\n",
    "            break\n",
    "        last_height = new_height\n",
    "    time.sleep(5)\n",
    "\n",
    "     # Find number of videoes and click on last video\n",
    "    print(\"Looper gjennom videoene fra bunn til topp\")\n",
    "    videos = driver.find_elements(By.CLASS_NAME, \"tiktok-x6y88p-DivItemContainerV2\")\n",
    "    time.sleep(5)\n",
    "    count = len(videos)\n",
    "    driver.find_elements(By.CLASS_NAME, \"tiktok-x6y88p-DivItemContainerV2\")[-1].click()\n",
    "    time.sleep(5)"
   ]
  },
  {
   "attachments": {},
   "cell_type": "markdown",
   "id": "2c5622ba",
   "metadata": {},
   "source": [
    "* Hente ut kommentarer, navn og brukernavn\n",
    "* Klikke videre til neste video"
   ]
  },
  {
   "cell_type": "code",
   "execution_count": null,
   "id": "bbb42f76",
   "metadata": {},
   "outputs": [],
   "source": [
    "# Browse all videos on page\n",
    "while True:\n",
    "    try: \n",
    "        post_text = driver.find_element(By.CSS_SELECTOR, \"div.tiktok-x6f6za-DivContainer\").text\n",
    "        print(f\"[*] Video nummer {x} av {count}\")\n",
    "\n",
    "        try: \n",
    "            comments = driver.find_elements(By.CSS_SELECTOR, \"div.tiktok-16r0vzi-DivCommentContentContainer\")\n",
    "            time.sleep(2)\n",
    "            if True: \n",
    "                for c in comments:\n",
    "                    name = c.find_element(By.CSS_SELECTOR, \"span.tiktok-mfqbp1-SpanUserNameText\").text\n",
    "                    username = c.find_element(By.CSS_SELECTOR, \"a.tiktok-bhsg9d-StyledUserLinkName\").get_attribute(\"href\")\n",
    "                    comment = c.find_element(By.CSS_SELECTOR, \"p.tiktok-q9aj5z-PCommentText\").text\n",
    "\n",
    "                    # Add to DB\n",
    "                    cur.execute(\"INSERT OR IGNORE INTO Brukere (poster, poster_username, post_text, name, username, comment) VALUES (?, ?, ?, ?, ?, ?)\",\n",
    "                    [poster, poster_username, post_text, name, username, comment])\n",
    "                    conn.commit()                    \n",
    "\n",
    "            time.sleep(2)\n",
    "\n",
    "        except NoSuchElementException:\n",
    "            break\n",
    "\n",
    "        WebDriverWait(driver, 20).until(EC.element_to_be_clickable((By.CLASS_NAME, \"tiktok-1ps1qld-ButtonBasicButtonContainer-StyledVideoSwitch\"))).click()\n",
    "        time.sleep(5)\n",
    "\n",
    "        x += 1\n",
    "\n",
    "    except TimeoutException:\n",
    "        print(\"Ingen flere videoer.\")\n",
    "        break\n",
    "\n",
    "print(f\"Ferdig med {poster}\")"
   ]
  },
  {
   "attachments": {},
   "cell_type": "markdown",
   "id": "d8199908",
   "metadata": {},
   "source": [
    "### Finne antall barn i alderen 9-14 år i datamaterialet + alle kommentarene de har skrevet"
   ]
  },
  {
   "attachments": {},
   "cell_type": "markdown",
   "id": "46a4b7d2",
   "metadata": {},
   "source": [
    "* SQL-spørring for å finne kommentarer der noen oppgir å være 9-14. Tar høyde for ulike måter å skrive alderen på. Alle treffene må gås igjennom manuelt for å luke ut kommentarer som viser til noe annet enn alder, eller som helt tydelig er tull."
   ]
  },
  {
   "cell_type": "code",
   "execution_count": null,
   "id": "44715ab8",
   "metadata": {
    "vscode": {
     "languageId": "sql"
    }
   },
   "outputs": [],
   "source": [
    "UPDATE Brukere\n",
    "SET barn9_14 = \"1\"\n",
    "WHERE (comment LIKE \"% 9 år%\" or comment like \"% 10 år%\" or comment like \"% 11 år%\" or comment like \"% 12 år%\" \n",
    "        or comment like \"% 13 år%\" or comment like \"% 14 år%\"\n",
    "        or comment like \"% 10år%\" or comment like \"% 11år%\" or comment like \"% 12år%\" \n",
    "        or comment like \"% 13år%\" or comment like \"% 14år%\"\n",
    "        or comment like \"%ni år%\" or comment like \"%ti år%\" or comment like \"%elleve år%\" \n",
    "        or comment like \"%tolv år%\" or comment like \"%tretten år%\" or comment like \"%fjorten år%\" \n",
    "        or comment like \"%niår%\" or comment like \"%tiår%\" or comment like \"%elleveår%\" \n",
    "        or comment like \"%tolvår%\" or comment like \"%trettenår%\" or comment like \"%fjortenår%\")\n",
    "        AND username NOT IN \n",
    "        (SELECT poster_username FROM Brukere)"
   ]
  },
  {
   "attachments": {},
   "cell_type": "markdown",
   "id": "c5d027a4",
   "metadata": {},
   "source": [
    "* Spørring for finne brukernavnene og gruppere dem slik at de bare kommer opp én gang. Dermed vet vi hvor mange det er snakk om.\n",
    "* Lager også et nytt table med bare de som oppgir alder mellom 9 og 14 år."
   ]
  },
  {
   "cell_type": "code",
   "execution_count": null,
   "id": "f70eb86e",
   "metadata": {
    "vscode": {
     "languageId": "sql"
    }
   },
   "outputs": [],
   "source": [
    "CREATE TABLE \"Brukernavn9_14\" AS\n",
    "SELECT username FROM Brukere\n",
    "WHERE barn9_14 = \"1\"\n",
    "GROUP BY username;"
   ]
  },
  {
   "attachments": {},
   "cell_type": "markdown",
   "id": "5e8a1929",
   "metadata": {},
   "source": [
    "* Bruke «inner join»-metoden for å koble tabelet med brukernavn med hele datamaterialet."
   ]
  },
  {
   "cell_type": "code",
   "execution_count": null,
   "id": "98c9cb7f",
   "metadata": {
    "vscode": {
     "languageId": "sql"
    }
   },
   "outputs": [],
   "source": [
    "SELECT Brukere.poster, Brukere.username, Brukere.comment FROM Brukere\n",
    "INNER JOIN Brukernavn9_14 ON Brukernavn9_14.username = Brukere.username;"
   ]
  }
 ],
 "metadata": {
  "kernelspec": {
   "display_name": "env",
   "language": "python",
   "name": "python3"
  },
  "language_info": {
   "codemirror_mode": {
    "name": "ipython",
    "version": 3
   },
   "file_extension": ".py",
   "mimetype": "text/x-python",
   "name": "python",
   "nbconvert_exporter": "python",
   "pygments_lexer": "ipython3",
   "version": "3.11.0"
  },
  "vscode": {
   "interpreter": {
    "hash": "d04fab732e1e27c7cc788010add8035e864ae8873a728db9abd27c837f8d9aef"
   }
  }
 },
 "nbformat": 4,
 "nbformat_minor": 5
}
