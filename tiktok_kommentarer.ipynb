{
 "cells": [
  {
   "cell_type": "markdown",
   "id": "17a2d8d6",
   "metadata": {},
   "source": [
    "# Hvor mange barn kommenterer på norske TikTok-byggeres profiler?\n",
    "\n",
    "Dokumentasjon av metode  \n",
    "*Christian Nicolai Bjørke, 7.11.2022*"
   ]
  },
  {
   "cell_type": "code",
   "execution_count": 2,
   "id": "91e2ad50",
   "metadata": {},
   "outputs": [],
   "source": [
    "import pandas as pd\n",
    "import sqlite3\n",
    "\n",
    "# Koble til database\n",
    "db = \"/PATH/brukere.db\"\n",
    "conn = sqlite3.connect(db)"
   ]
  },
  {
   "attachments": {},
   "cell_type": "markdown",
   "id": "dc8ce20d",
   "metadata": {},
   "source": [
    "Databasen består av følgende kolonner: \n",
    "* poster (navn på TikTok-brukeren som har laget videoen)\n",
    "* poster_username (URL til TikTok-brukeren som har laget videoen)\n",
    "* post_text (tekst som hører til TikTok-videoen)\n",
    "* name (navn på TikTok-brukeren som har kommentert på videoen)\n",
    "* username (URL til TikTok-brukeren som har kommentert på videoen))\n",
    "* comment (kommentaren)"
   ]
  },
  {
   "attachments": {},
   "cell_type": "markdown",
   "id": "7aeb8997",
   "metadata": {},
   "source": [
    "### 1. Samle data\n",
    "\n",
    "Først skraper vi alle kommentarene på sidene til 50 av de største TikTok-byggere i Norge. Alt blir samlet i en database.  \n",
    "\n",
    "Størrelsen på databasen:"
   ]
  },
  {
   "cell_type": "code",
   "execution_count": 1,
   "id": "3109f96f",
   "metadata": {},
   "outputs": [],
   "source": [
    "query = \"\"\"SELECT * FROM Brukere\"\"\"\n",
    "comments = len(pd.read_sql_query(query, conn))\n",
    "print(f\"Databasen består av {comments} kommentarer\")"
   ]
  },
  {
   "cell_type": "markdown",
   "id": "0f3b6879",
   "metadata": {},
   "source": [
    "### 2. Finne barna\n",
    "\n",
    "Deretter finner vi alle kommentarene der noen oppgir å være 9-14 eller 15-17 år."
   ]
  },
  {
   "attachments": {},
   "cell_type": "markdown",
   "id": "a90f3891",
   "metadata": {},
   "source": [
    "Lage to nye kolonner:\n",
    "\n",
    "ALTER TABLE Brukere\n",
    "ADD barn9_14 TEXT\n",
    "\n",
    "ALTER TABLE Brukere\n",
    "ADD barn15_17 TEXT\n",
    "\n",
    "#### 9-14 år\n",
    "*SQL-kode for å hente ut ulike måter å skrive alderen på. Må etterpå gås igjennom manuelt for å luke ut feil.*\n",
    "\n",
    "UPDATE Brukere\n",
    "SET barn9_14 = \"1\"\n",
    "WHERE (comment LIKE \"% 9 år%\" or comment like \"% 10 år%\" or comment like \"% 11 år%\" or comment like \"% 12 år%\" \n",
    "        or comment like \"% 13 år%\" or comment like \"% 14 år%\"\n",
    "        or comment like \"% 10år%\" or comment like \"% 11år%\" or comment like \"% 12år%\" \n",
    "        or comment like \"% 13år%\" or comment like \"% 14år%\"\n",
    "        or comment like \"%ni år%\" or comment like \"%ti år%\" or comment like \"%elleve år%\" \n",
    "        or comment like \"%tolv år%\" or comment like \"%tretten år%\" or comment like \"%fjorten år%\" \n",
    "        or comment like \"%niår%\" or comment like \"%tiår%\" or comment like \"%elleveår%\" \n",
    "        or comment like \"%tolvår%\" or comment like \"%trettenår%\" or comment like \"%fjortenår%\")\n",
    "        AND username NOT IN \n",
    "        (SELECT poster_username FROM Brukere)\n",
    "\n",
    "#### 15-17 år\n",
    "*SQL-kode for å hente ut ulike måter å skrive alderen på. Må etterpå gås igjennom manuelt for å luke ut feil.*\n",
    "\n",
    "UPDATE Brukere\n",
    "SET barn15_17 = \"1\"\n",
    "WHERE (comment LIKE \"% 15 år%\" or comment like \"% 16 år%\" or comment like \"% 17 år%\"\n",
    "        or comment like \"% 15år%\" or comment like \"% 16år%\" or comment like \"% 17år%\"\n",
    "        or comment like \"%femten år%\" or comment like \"%seksten år%\" or comment like \"%sytten år%\" \n",
    "        or comment like \"%femtenår%\" or comment like \"%sekstenår%\" or comment like \"%syttenår%\" \n",
    "        or comment like \"%søtten år%\" or comment like \"%søttenår%\"\n",
    "        AND username NOT IN \n",
    "        (SELECT poster_username FROM Brukere)"
   ]
  },
  {
   "cell_type": "markdown",
   "id": "0609e599",
   "metadata": {},
   "source": [
    "### 3. Gå igjennom manuelt\n",
    "\n",
    "Alle treffene blir gått igjennom manuelt for å luke ut kommentarer som viser til noe annet enn alder, eller som helt tydelig er tull. "
   ]
  },
  {
   "cell_type": "markdown",
   "id": "c5d027a4",
   "metadata": {},
   "source": [
    "### 4. Telle opp antall barn\n",
    "Vi finner brukernavnene på de kommentarene som er igjen, og grupperer dem slik at hvert brukernavn bare kommer opp én gang."
   ]
  },
  {
   "cell_type": "code",
   "execution_count": null,
   "id": "f70eb86e",
   "metadata": {},
   "outputs": [],
   "source": [
    "query9_14 = \"\"\"SELECT * FROM Brukere\n",
    "                WHERE barn9_14 = \"1\"\n",
    "                GROUP BY username;\"\"\"\n",
    "\n",
    "query15_17 = \"\"\"SELECT * FROM Brukere\n",
    "                WHERE barn15_17 = \"1\"\n",
    "                GROUP BY username;\"\"\"\n",
    "\n",
    "df9_14 = pd.read_sql_query(query9_14, conn)\n",
    "usernames9_14 = len(df9_14)\n",
    "df15_17 = pd.read_sql_query(query15_17, conn)\n",
    "usernames15_17 = len(df15_17)\n",
    "\n",
    "print(f\"{usernames9_14} brukere oppgir alder mellom 9 og 14 år.\")\n",
    "print(f\"{usernames15_17} brukere oppgir alder mellom 15 og 17 år.\")"
   ]
  },
  {
   "attachments": {},
   "cell_type": "markdown",
   "id": "1584ef52",
   "metadata": {},
   "source": [
    "### 5. Trekke ut kommentarer fra brukernavn\n",
    "\n",
    "Når vi har brukernavnene, kan vi samle alle kommentarer disse brukerne har lagt igjen på muskelmennenes sider. \n",
    "\n",
    "Først lager vi et eget table med brukernavnene.\n",
    "\n",
    "CREATE TABLE \"Brukernavn9_14\" AS\n",
    "SELECT username FROM Brukere\n",
    "WHERE barn9_14 = \"1\"\n",
    "GROUP BY username;\n",
    "\n",
    "CREATE TABLE \"Brukernavn15_17\" AS\n",
    "SELECT username FROM Brukere\n",
    "WHERE barn15_17 = \"1\"\n",
    "GROUP BY username;"
   ]
  },
  {
   "cell_type": "markdown",
   "id": "5e8a1929",
   "metadata": {},
   "source": [
    "Deretter bruker vi inner join for å koble brukernavn med kommentarer."
   ]
  },
  {
   "cell_type": "code",
   "execution_count": null,
   "id": "98c9cb7f",
   "metadata": {},
   "outputs": [],
   "source": [
    "comments9_14 = \"\"\"SELECT Brukere.poster, Brukere.username, Brukere.comment FROM Brukere\n",
    "                    INNER JOIN Brukernavn9_14 ON Brukernavn9_14.username = Brukere.username;\"\"\"\n",
    "\n",
    "comments15_17 = \"\"\"SELECT Brukere.poster, Brukere.username, Brukere.comment FROM Brukere\n",
    "                    INNER JOIN Brukernavn15_17 ON Brukernavn15_17.username = Brukere.username;\"\"\"\n",
    "\n",
    "df_comments9_14 = pd.read_sql_query(comments9_14, conn)\n",
    "df_comments15_17 = pd.read_sql_query(comments15_17, conn)\n",
    "\n",
    "print(f\"{len(df_comments9_14)} kommentarer er skrevet av barn som oppgir å være mellom 9 og 14 år.\")\n",
    "print(f\"{len(df_comments15_17)} kommentarer er skrevet av barn som oppgir å være mellom 15 og 17 år.\")"
   ]
  },
  {
   "cell_type": "markdown",
   "id": "f54d2f29",
   "metadata": {},
   "source": [
    "### 6. Hvilke byggere får flest kommentarer fra barn?"
   ]
  },
  {
   "cell_type": "code",
   "execution_count": null,
   "id": "bfac38bb",
   "metadata": {},
   "outputs": [],
   "source": [
    "top_comments_9_14 = \"\"\"SELECT poster, count(*) FROM Kommentarer9_14\n",
    "                        GROUP BY poster\n",
    "                        ORDER BY count(*) DESC\"\"\"\n",
    "\n",
    "df = pd.read_sql_query(top_comments_9_14, conn)\n",
    "\n",
    "print(\"Disse byggerne får flest kommentarer fra 9-14-åringer:\")\n",
    "df.head(5)"
   ]
  },
  {
   "cell_type": "code",
   "execution_count": null,
   "id": "daa3c0e9",
   "metadata": {},
   "outputs": [],
   "source": [
    "top_comments_15_17 = \"\"\"SELECT poster, count(*) FROM Kommentarer15_17\n",
    "                        GROUP BY poster\n",
    "                        ORDER BY count(*) DESC\"\"\"\n",
    "\n",
    "df = pd.read_sql_query(top_comments_15_17, conn)\n",
    "\n",
    "print(\"Disse byggerne får flest kommentarer fra 15-17-åringer:\")\n",
    "df.head(5)"
   ]
  },
  {
   "cell_type": "markdown",
   "id": "1a41270f",
   "metadata": {},
   "source": [
    "### 7. Hvor mange visninger har norske byggere til sammen?"
   ]
  },
  {
   "cell_type": "code",
   "execution_count": null,
   "id": "3e702d53",
   "metadata": {},
   "outputs": [],
   "source": [
    "total_views = \"\"\"SELECT SUM(views) FROM Brukerviews\"\"\"\n",
    "\n",
    "print(\"Visninger for 50 norske TikTok-byggere:\")\n",
    "print(pd.read_sql_query(total_views, conn))"
   ]
  },
  {
   "cell_type": "markdown",
   "id": "611a8878",
   "metadata": {},
   "source": [
    "### 8. Hvor mange visninger har den enkelte bygger fått?"
   ]
  },
  {
   "cell_type": "code",
   "execution_count": null,
   "id": "69e999e9",
   "metadata": {},
   "outputs": [],
   "source": [
    "builder_views = \"\"\"SELECT poster, SUM(views) FROM Brukerviews\n",
    "                GROUP BY poster\n",
    "                ORDER BY SUM(views) DESC\"\"\"\n",
    "\n",
    "df_builder_views = pd.read_sql_query(builder_views, conn)\n",
    "df_builder_views.head(5)\n"
   ]
  },
  {
   "attachments": {},
   "cell_type": "markdown",
   "id": "3f217816",
   "metadata": {},
   "source": [
    "### 9. Hvor mange brukere har lagt igjen kommentar?"
   ]
  },
  {
   "cell_type": "code",
   "execution_count": null,
   "id": "08333b61",
   "metadata": {},
   "outputs": [],
   "source": [
    "query_users = \"\"\"SELECT username FROM Brukere\n",
    "                GROUP BY username;\"\"\"\n",
    "\n",
    "df_users = pd.read_sql_query(query_users, conn)\n",
    "usernames_total = len(df_users)\n",
    "\n",
    "print(f\"{usernames_total} brukere har lagt igjen en kommentar.\")"
   ]
  }
 ],
 "metadata": {
  "kernelspec": {
   "display_name": "env",
   "language": "python",
   "name": "python3"
  },
  "language_info": {
   "codemirror_mode": {
    "name": "ipython",
    "version": 3
   },
   "file_extension": ".py",
   "mimetype": "text/x-python",
   "name": "python",
   "nbconvert_exporter": "python",
   "pygments_lexer": "ipython3",
   "version": "3.11.0"
  },
  "vscode": {
   "interpreter": {
    "hash": "d04fab732e1e27c7cc788010add8035e864ae8873a728db9abd27c837f8d9aef"
   }
  }
 },
 "nbformat": 4,
 "nbformat_minor": 5
}
